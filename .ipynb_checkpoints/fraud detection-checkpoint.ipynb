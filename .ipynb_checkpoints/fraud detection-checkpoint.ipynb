{
 "cells": [
  {
   "cell_type": "code",
   "execution_count": 1,
   "metadata": {},
   "outputs": [],
   "source": [
    "import pandas as pd\n",
    "import numpy as np\n",
    "from sklearn.model_selection import train_test_split, cross_val_score, StratifiedKFold\n",
    "from sklearn.preprocessing import StandardScaler, LabelEncoder\n",
    "from sklearn.ensemble import RandomForestClassifier, IsolationForest\n",
    "from sklearn.linear_model import LogisticRegression\n",
    "from sklearn.metrics import classification_report, confusion_matrix, roc_auc_score, precision_recall_curve, auc\n",
    "from sklearn.impute import SimpleImputer\n",
    "from scipy import stats\n",
    "import warnings\n",
    "warnings.filterwarnings('ignore')"
   ]
  },
  {
   "cell_type": "code",
   "execution_count": 2,
   "metadata": {},
   "outputs": [],
   "source": [
    "df = pd.read_csv('Fraud.csv', low_memory=False)"
   ]
  },
  {
   "cell_type": "code",
   "execution_count": 3,
   "metadata": {},
   "outputs": [
    {
     "data": {
      "text/html": [
       "<div>\n",
       "<style scoped>\n",
       "    .dataframe tbody tr th:only-of-type {\n",
       "        vertical-align: middle;\n",
       "    }\n",
       "\n",
       "    .dataframe tbody tr th {\n",
       "        vertical-align: top;\n",
       "    }\n",
       "\n",
       "    .dataframe thead th {\n",
       "        text-align: right;\n",
       "    }\n",
       "</style>\n",
       "<table border=\"1\" class=\"dataframe\">\n",
       "  <thead>\n",
       "    <tr style=\"text-align: right;\">\n",
       "      <th></th>\n",
       "      <th>step</th>\n",
       "      <th>type</th>\n",
       "      <th>amount</th>\n",
       "      <th>nameOrig</th>\n",
       "      <th>oldbalanceOrg</th>\n",
       "      <th>newbalanceOrig</th>\n",
       "      <th>nameDest</th>\n",
       "      <th>oldbalanceDest</th>\n",
       "      <th>newbalanceDest</th>\n",
       "      <th>isFraud</th>\n",
       "      <th>isFlaggedFraud</th>\n",
       "    </tr>\n",
       "  </thead>\n",
       "  <tbody>\n",
       "    <tr>\n",
       "      <th>0</th>\n",
       "      <td>1</td>\n",
       "      <td>PAYMENT</td>\n",
       "      <td>9839.64</td>\n",
       "      <td>C1231006815</td>\n",
       "      <td>170136.0</td>\n",
       "      <td>160296.36</td>\n",
       "      <td>M1979787155</td>\n",
       "      <td>0.0</td>\n",
       "      <td>0.0</td>\n",
       "      <td>0</td>\n",
       "      <td>0</td>\n",
       "    </tr>\n",
       "    <tr>\n",
       "      <th>1</th>\n",
       "      <td>1</td>\n",
       "      <td>PAYMENT</td>\n",
       "      <td>1864.28</td>\n",
       "      <td>C1666544295</td>\n",
       "      <td>21249.0</td>\n",
       "      <td>19384.72</td>\n",
       "      <td>M2044282225</td>\n",
       "      <td>0.0</td>\n",
       "      <td>0.0</td>\n",
       "      <td>0</td>\n",
       "      <td>0</td>\n",
       "    </tr>\n",
       "    <tr>\n",
       "      <th>2</th>\n",
       "      <td>1</td>\n",
       "      <td>TRANSFER</td>\n",
       "      <td>181.00</td>\n",
       "      <td>C1305486145</td>\n",
       "      <td>181.0</td>\n",
       "      <td>0.00</td>\n",
       "      <td>C553264065</td>\n",
       "      <td>0.0</td>\n",
       "      <td>0.0</td>\n",
       "      <td>1</td>\n",
       "      <td>0</td>\n",
       "    </tr>\n",
       "    <tr>\n",
       "      <th>3</th>\n",
       "      <td>1</td>\n",
       "      <td>CASH_OUT</td>\n",
       "      <td>181.00</td>\n",
       "      <td>C840083671</td>\n",
       "      <td>181.0</td>\n",
       "      <td>0.00</td>\n",
       "      <td>C38997010</td>\n",
       "      <td>21182.0</td>\n",
       "      <td>0.0</td>\n",
       "      <td>1</td>\n",
       "      <td>0</td>\n",
       "    </tr>\n",
       "    <tr>\n",
       "      <th>4</th>\n",
       "      <td>1</td>\n",
       "      <td>PAYMENT</td>\n",
       "      <td>11668.14</td>\n",
       "      <td>C2048537720</td>\n",
       "      <td>41554.0</td>\n",
       "      <td>29885.86</td>\n",
       "      <td>M1230701703</td>\n",
       "      <td>0.0</td>\n",
       "      <td>0.0</td>\n",
       "      <td>0</td>\n",
       "      <td>0</td>\n",
       "    </tr>\n",
       "  </tbody>\n",
       "</table>\n",
       "</div>"
      ],
      "text/plain": [
       "   step      type    amount     nameOrig  oldbalanceOrg  newbalanceOrig  \\\n",
       "0     1   PAYMENT   9839.64  C1231006815       170136.0       160296.36   \n",
       "1     1   PAYMENT   1864.28  C1666544295        21249.0        19384.72   \n",
       "2     1  TRANSFER    181.00  C1305486145          181.0            0.00   \n",
       "3     1  CASH_OUT    181.00   C840083671          181.0            0.00   \n",
       "4     1   PAYMENT  11668.14  C2048537720        41554.0        29885.86   \n",
       "\n",
       "      nameDest  oldbalanceDest  newbalanceDest  isFraud  isFlaggedFraud  \n",
       "0  M1979787155             0.0             0.0        0               0  \n",
       "1  M2044282225             0.0             0.0        0               0  \n",
       "2   C553264065             0.0             0.0        1               0  \n",
       "3    C38997010         21182.0             0.0        1               0  \n",
       "4  M1230701703             0.0             0.0        0               0  "
      ]
     },
     "execution_count": 3,
     "metadata": {},
     "output_type": "execute_result"
    }
   ],
   "source": [
    "df.head()"
   ]
  },
  {
   "cell_type": "code",
   "execution_count": 4,
   "metadata": {},
   "outputs": [
    {
     "name": "stdout",
     "output_type": "stream",
     "text": [
      "<class 'pandas.core.frame.DataFrame'>\n",
      "RangeIndex: 6362620 entries, 0 to 6362619\n",
      "Data columns (total 11 columns):\n",
      " #   Column          Dtype  \n",
      "---  ------          -----  \n",
      " 0   step            int64  \n",
      " 1   type            object \n",
      " 2   amount          float64\n",
      " 3   nameOrig        object \n",
      " 4   oldbalanceOrg   float64\n",
      " 5   newbalanceOrig  float64\n",
      " 6   nameDest        object \n",
      " 7   oldbalanceDest  float64\n",
      " 8   newbalanceDest  float64\n",
      " 9   isFraud         int64  \n",
      " 10  isFlaggedFraud  int64  \n",
      "dtypes: float64(5), int64(3), object(3)\n",
      "memory usage: 534.0+ MB\n"
     ]
    }
   ],
   "source": [
    "df.info()"
   ]
  },
  {
   "cell_type": "code",
   "execution_count": 5,
   "metadata": {},
   "outputs": [
    {
     "data": {
      "text/plain": [
       "CASH_OUT    2237500\n",
       "PAYMENT     2151495\n",
       "CASH_IN     1399284\n",
       "TRANSFER     532909\n",
       "DEBIT         41432\n",
       "Name: type, dtype: int64"
      ]
     },
     "execution_count": 5,
     "metadata": {},
     "output_type": "execute_result"
    }
   ],
   "source": [
    "df['type'].value_counts()"
   ]
  },
  {
   "cell_type": "code",
   "execution_count": 6,
   "metadata": {},
   "outputs": [],
   "source": [
    "fraud_by_type = df.groupby('type')['isFraud'].agg(['count', 'sum', 'mean'])\n",
    "fraud_by_type.columns = ['Total_Transactions', 'Fraud_Cases', 'Fraud_Rate']"
   ]
  },
  {
   "cell_type": "code",
   "execution_count": 7,
   "metadata": {},
   "outputs": [
    {
     "data": {
      "text/html": [
       "<div>\n",
       "<style scoped>\n",
       "    .dataframe tbody tr th:only-of-type {\n",
       "        vertical-align: middle;\n",
       "    }\n",
       "\n",
       "    .dataframe tbody tr th {\n",
       "        vertical-align: top;\n",
       "    }\n",
       "\n",
       "    .dataframe thead th {\n",
       "        text-align: right;\n",
       "    }\n",
       "</style>\n",
       "<table border=\"1\" class=\"dataframe\">\n",
       "  <thead>\n",
       "    <tr style=\"text-align: right;\">\n",
       "      <th></th>\n",
       "      <th>Total_Transactions</th>\n",
       "      <th>Fraud_Cases</th>\n",
       "      <th>Fraud_Rate</th>\n",
       "    </tr>\n",
       "    <tr>\n",
       "      <th>type</th>\n",
       "      <th></th>\n",
       "      <th></th>\n",
       "      <th></th>\n",
       "    </tr>\n",
       "  </thead>\n",
       "  <tbody>\n",
       "    <tr>\n",
       "      <th>CASH_IN</th>\n",
       "      <td>1399284</td>\n",
       "      <td>0</td>\n",
       "      <td>0.000000</td>\n",
       "    </tr>\n",
       "    <tr>\n",
       "      <th>CASH_OUT</th>\n",
       "      <td>2237500</td>\n",
       "      <td>4116</td>\n",
       "      <td>0.001840</td>\n",
       "    </tr>\n",
       "    <tr>\n",
       "      <th>DEBIT</th>\n",
       "      <td>41432</td>\n",
       "      <td>0</td>\n",
       "      <td>0.000000</td>\n",
       "    </tr>\n",
       "    <tr>\n",
       "      <th>PAYMENT</th>\n",
       "      <td>2151495</td>\n",
       "      <td>0</td>\n",
       "      <td>0.000000</td>\n",
       "    </tr>\n",
       "    <tr>\n",
       "      <th>TRANSFER</th>\n",
       "      <td>532909</td>\n",
       "      <td>4097</td>\n",
       "      <td>0.007688</td>\n",
       "    </tr>\n",
       "  </tbody>\n",
       "</table>\n",
       "</div>"
      ],
      "text/plain": [
       "          Total_Transactions  Fraud_Cases  Fraud_Rate\n",
       "type                                                 \n",
       "CASH_IN              1399284            0    0.000000\n",
       "CASH_OUT             2237500         4116    0.001840\n",
       "DEBIT                  41432            0    0.000000\n",
       "PAYMENT              2151495            0    0.000000\n",
       "TRANSFER              532909         4097    0.007688"
      ]
     },
     "execution_count": 7,
     "metadata": {},
     "output_type": "execute_result"
    }
   ],
   "source": [
    "fraud_by_type"
   ]
  },
  {
   "cell_type": "code",
   "execution_count": 8,
   "metadata": {},
   "outputs": [
    {
     "data": {
      "text/plain": [
       "count    6.362620e+06\n",
       "mean     1.798619e+05\n",
       "std      6.038582e+05\n",
       "min      0.000000e+00\n",
       "25%      1.338957e+04\n",
       "50%      7.487194e+04\n",
       "75%      2.087215e+05\n",
       "max      9.244552e+07\n",
       "Name: amount, dtype: float64"
      ]
     },
     "execution_count": 8,
     "metadata": {},
     "output_type": "execute_result"
    }
   ],
   "source": [
    "df['amount'].describe()"
   ]
  },
  {
   "cell_type": "code",
   "execution_count": 9,
   "metadata": {},
   "outputs": [
    {
     "data": {
      "text/plain": [
       "count    6.354407e+06\n",
       "mean     1.781970e+05\n",
       "std      5.962370e+05\n",
       "min      1.000000e-02\n",
       "25%      1.336840e+04\n",
       "50%      7.468472e+04\n",
       "75%      2.083648e+05\n",
       "max      9.244552e+07\n",
       "Name: amount, dtype: float64"
      ]
     },
     "execution_count": 9,
     "metadata": {},
     "output_type": "execute_result"
    }
   ],
   "source": [
    "df[df['isFraud']==0]['amount'].describe()"
   ]
  },
  {
   "cell_type": "code",
   "execution_count": 10,
   "metadata": {},
   "outputs": [
    {
     "data": {
      "text/plain": [
       "count    8.213000e+03\n",
       "mean     1.467967e+06\n",
       "std      2.404253e+06\n",
       "min      0.000000e+00\n",
       "25%      1.270913e+05\n",
       "50%      4.414234e+05\n",
       "75%      1.517771e+06\n",
       "max      1.000000e+07\n",
       "Name: amount, dtype: float64"
      ]
     },
     "execution_count": 10,
     "metadata": {},
     "output_type": "execute_result"
    }
   ],
   "source": [
    "df[df['isFraud']==1]['amount'].describe()"
   ]
  },
  {
   "cell_type": "code",
   "execution_count": 11,
   "metadata": {},
   "outputs": [
    {
     "data": {
      "text/plain": [
       "step              0\n",
       "type              0\n",
       "amount            0\n",
       "nameOrig          0\n",
       "oldbalanceOrg     0\n",
       "newbalanceOrig    0\n",
       "nameDest          0\n",
       "oldbalanceDest    0\n",
       "newbalanceDest    0\n",
       "isFraud           0\n",
       "isFlaggedFraud    0\n",
       "dtype: int64"
      ]
     },
     "execution_count": 11,
     "metadata": {},
     "output_type": "execute_result"
    }
   ],
   "source": [
    "df.isnull().sum()"
   ]
  },
  {
   "cell_type": "code",
   "execution_count": 12,
   "metadata": {},
   "outputs": [],
   "source": [
    "merchant_dest = df[df['nameDest'].str.startswith('M')]"
   ]
  },
  {
   "cell_type": "code",
   "execution_count": 13,
   "metadata": {},
   "outputs": [
    {
     "data": {
      "text/plain": [
       "2151495"
      ]
     },
     "execution_count": 13,
     "metadata": {},
     "output_type": "execute_result"
    }
   ],
   "source": [
    "len(merchant_dest)"
   ]
  },
  {
   "cell_type": "code",
   "execution_count": 14,
   "metadata": {},
   "outputs": [
    {
     "data": {
      "text/plain": [
       "True"
      ]
     },
     "execution_count": 14,
     "metadata": {},
     "output_type": "execute_result"
    }
   ],
   "source": [
    "(merchant_dest['oldbalanceDest'] == 0).all() and (merchant_dest['newbalanceDest'] == 0).all()"
   ]
  },
  {
   "cell_type": "code",
   "execution_count": 15,
   "metadata": {},
   "outputs": [],
   "source": [
    "def check_balance_consistency(row):\n",
    "    expected_new_balance = row['oldbalanceOrg'] - row['amount']\n",
    "    actual_new_balance = row['newbalanceOrig']\n",
    "    return abs(expected_new_balance - actual_new_balance) < 0.01\n",
    "\n",
    "df['balance_consistent'] = df.apply(check_balance_consistency, axis=1)"
   ]
  },
  {
   "cell_type": "code",
   "execution_count": 16,
   "metadata": {},
   "outputs": [
    {
     "data": {
      "text/plain": [
       "0.20194951136481512"
      ]
     },
     "execution_count": 16,
     "metadata": {},
     "output_type": "execute_result"
    }
   ],
   "source": [
    "(df['balance_consistent'].sum())/(len(df))"
   ]
  },
  {
   "cell_type": "code",
   "execution_count": 17,
   "metadata": {},
   "outputs": [
    {
     "data": {
      "text/plain": [
       "0.7980504886351849"
      ]
     },
     "execution_count": 17,
     "metadata": {},
     "output_type": "execute_result"
    }
   ],
   "source": [
    "(~df['balance_consistent']).mean()"
   ]
  },
  {
   "cell_type": "code",
   "execution_count": 18,
   "metadata": {},
   "outputs": [],
   "source": [
    "inconsistency_by_fraud = df.groupby('isFraud')['balance_consistent'].agg(['count', 'sum', 'mean'])\n",
    "inconsistency_by_fraud.columns = ['Total', 'Consistent', 'Consistency_Rate']"
   ]
  },
  {
   "cell_type": "code",
   "execution_count": 19,
   "metadata": {},
   "outputs": [
    {
     "data": {
      "text/html": [
       "<div>\n",
       "<style scoped>\n",
       "    .dataframe tbody tr th:only-of-type {\n",
       "        vertical-align: middle;\n",
       "    }\n",
       "\n",
       "    .dataframe tbody tr th {\n",
       "        vertical-align: top;\n",
       "    }\n",
       "\n",
       "    .dataframe thead th {\n",
       "        text-align: right;\n",
       "    }\n",
       "</style>\n",
       "<table border=\"1\" class=\"dataframe\">\n",
       "  <thead>\n",
       "    <tr style=\"text-align: right;\">\n",
       "      <th></th>\n",
       "      <th>Total</th>\n",
       "      <th>Consistent</th>\n",
       "      <th>Consistency_Rate</th>\n",
       "    </tr>\n",
       "    <tr>\n",
       "      <th>isFraud</th>\n",
       "      <th></th>\n",
       "      <th></th>\n",
       "      <th></th>\n",
       "    </tr>\n",
       "  </thead>\n",
       "  <tbody>\n",
       "    <tr>\n",
       "      <th>0</th>\n",
       "      <td>6354407</td>\n",
       "      <td>1276760</td>\n",
       "      <td>0.200925</td>\n",
       "    </tr>\n",
       "    <tr>\n",
       "      <th>1</th>\n",
       "      <td>8213</td>\n",
       "      <td>8168</td>\n",
       "      <td>0.994521</td>\n",
       "    </tr>\n",
       "  </tbody>\n",
       "</table>\n",
       "</div>"
      ],
      "text/plain": [
       "           Total  Consistent  Consistency_Rate\n",
       "isFraud                                       \n",
       "0        6354407     1276760          0.200925\n",
       "1           8213        8168          0.994521"
      ]
     },
     "execution_count": 19,
     "metadata": {},
     "output_type": "execute_result"
    }
   ],
   "source": [
    "inconsistency_by_fraud"
   ]
  },
  {
   "cell_type": "code",
   "execution_count": 20,
   "metadata": {},
   "outputs": [],
   "source": [
    "df['amount_to_oldbalance_ratio'] = df['amount'] / (df['oldbalanceOrg'] + 1)  \n",
    "df['is_round_amount'] = (df['amount'] % 1000 == 0).astype(int)\n",
    "df['is_merchant_dest'] = df['nameDest'].str.startswith('M').astype(int)\n",
    "df['balance_change'] = df['oldbalanceOrg'] - df['newbalanceOrig']\n",
    "df['balance_change_diff'] = abs(df['balance_change'] - df['amount'])"
   ]
  },
  {
   "cell_type": "code",
   "execution_count": 21,
   "metadata": {},
   "outputs": [],
   "source": [
    "df['hour_of_day'] = df['step'] % 24\n",
    "df['is_night_transaction'] = ((df['hour_of_day'] >= 22) | (df['hour_of_day'] <= 6)).astype(int)"
   ]
  },
  {
   "cell_type": "code",
   "execution_count": 22,
   "metadata": {},
   "outputs": [
    {
     "name": "stdout",
     "output_type": "stream",
     "text": [
      "- amount_to_oldbalance_ratio\n",
      "- is_round_amount\n",
      "- is_merchant_dest\n",
      "- balance_change\n",
      "- balance_change_diff\n",
      "- hour_of_day\n",
      "- is_night_transaction\n"
     ]
    }
   ],
   "source": [
    "new_features = ['amount_to_oldbalance_ratio', 'is_round_amount', 'is_merchant_dest', \n",
    "                'balance_change', 'balance_change_diff', 'hour_of_day', 'is_night_transaction']\n",
    "for feat in new_features:\n",
    "    print(f\"- {feat}\")"
   ]
  },
  {
   "cell_type": "code",
   "execution_count": 23,
   "metadata": {},
   "outputs": [
    {
     "data": {
      "text/html": [
       "<div>\n",
       "<style scoped>\n",
       "    .dataframe tbody tr th:only-of-type {\n",
       "        vertical-align: middle;\n",
       "    }\n",
       "\n",
       "    .dataframe tbody tr th {\n",
       "        vertical-align: top;\n",
       "    }\n",
       "\n",
       "    .dataframe thead th {\n",
       "        text-align: right;\n",
       "    }\n",
       "</style>\n",
       "<table border=\"1\" class=\"dataframe\">\n",
       "  <thead>\n",
       "    <tr style=\"text-align: right;\">\n",
       "      <th></th>\n",
       "      <th>amount_to_oldbalance_ratio</th>\n",
       "      <th>is_round_amount</th>\n",
       "      <th>is_merchant_dest</th>\n",
       "      <th>balance_change</th>\n",
       "      <th>balance_change_diff</th>\n",
       "      <th>hour_of_day</th>\n",
       "      <th>is_night_transaction</th>\n",
       "    </tr>\n",
       "  </thead>\n",
       "  <tbody>\n",
       "    <tr>\n",
       "      <th>count</th>\n",
       "      <td>6.362620e+06</td>\n",
       "      <td>6.362620e+06</td>\n",
       "      <td>6.362620e+06</td>\n",
       "      <td>6.362620e+06</td>\n",
       "      <td>6.362620e+06</td>\n",
       "      <td>6.362620e+06</td>\n",
       "      <td>6.362620e+06</td>\n",
       "    </tr>\n",
       "    <tr>\n",
       "      <th>mean</th>\n",
       "      <td>7.067448e+04</td>\n",
       "      <td>5.676907e-04</td>\n",
       "      <td>3.381461e-01</td>\n",
       "      <td>-2.123056e+04</td>\n",
       "      <td>2.010925e+05</td>\n",
       "      <td>1.532145e+01</td>\n",
       "      <td>7.101430e-02</td>\n",
       "    </tr>\n",
       "    <tr>\n",
       "      <th>std</th>\n",
       "      <td>5.084243e+05</td>\n",
       "      <td>2.381950e-02</td>\n",
       "      <td>4.730786e-01</td>\n",
       "      <td>1.466433e+05</td>\n",
       "      <td>6.066505e+05</td>\n",
       "      <td>4.321799e+00</td>\n",
       "      <td>2.568487e-01</td>\n",
       "    </tr>\n",
       "    <tr>\n",
       "      <th>min</th>\n",
       "      <td>0.000000e+00</td>\n",
       "      <td>0.000000e+00</td>\n",
       "      <td>0.000000e+00</td>\n",
       "      <td>-1.915268e+06</td>\n",
       "      <td>0.000000e+00</td>\n",
       "      <td>0.000000e+00</td>\n",
       "      <td>0.000000e+00</td>\n",
       "    </tr>\n",
       "    <tr>\n",
       "      <th>25%</th>\n",
       "      <td>2.344011e-01</td>\n",
       "      <td>0.000000e+00</td>\n",
       "      <td>0.000000e+00</td>\n",
       "      <td>0.000000e+00</td>\n",
       "      <td>2.954230e+03</td>\n",
       "      <td>1.200000e+01</td>\n",
       "      <td>0.000000e+00</td>\n",
       "    </tr>\n",
       "    <tr>\n",
       "      <th>50%</th>\n",
       "      <td>6.453832e+00</td>\n",
       "      <td>0.000000e+00</td>\n",
       "      <td>0.000000e+00</td>\n",
       "      <td>0.000000e+00</td>\n",
       "      <td>6.867726e+04</td>\n",
       "      <td>1.600000e+01</td>\n",
       "      <td>0.000000e+00</td>\n",
       "    </tr>\n",
       "    <tr>\n",
       "      <th>75%</th>\n",
       "      <td>1.228776e+04</td>\n",
       "      <td>0.000000e+00</td>\n",
       "      <td>1.000000e+00</td>\n",
       "      <td>1.015044e+04</td>\n",
       "      <td>2.496411e+05</td>\n",
       "      <td>1.900000e+01</td>\n",
       "      <td>0.000000e+00</td>\n",
       "    </tr>\n",
       "    <tr>\n",
       "      <th>max</th>\n",
       "      <td>9.244552e+07</td>\n",
       "      <td>1.000000e+00</td>\n",
       "      <td>1.000000e+00</td>\n",
       "      <td>1.000000e+07</td>\n",
       "      <td>9.244552e+07</td>\n",
       "      <td>2.300000e+01</td>\n",
       "      <td>1.000000e+00</td>\n",
       "    </tr>\n",
       "  </tbody>\n",
       "</table>\n",
       "</div>"
      ],
      "text/plain": [
       "       amount_to_oldbalance_ratio  is_round_amount  is_merchant_dest  \\\n",
       "count                6.362620e+06     6.362620e+06      6.362620e+06   \n",
       "mean                 7.067448e+04     5.676907e-04      3.381461e-01   \n",
       "std                  5.084243e+05     2.381950e-02      4.730786e-01   \n",
       "min                  0.000000e+00     0.000000e+00      0.000000e+00   \n",
       "25%                  2.344011e-01     0.000000e+00      0.000000e+00   \n",
       "50%                  6.453832e+00     0.000000e+00      0.000000e+00   \n",
       "75%                  1.228776e+04     0.000000e+00      1.000000e+00   \n",
       "max                  9.244552e+07     1.000000e+00      1.000000e+00   \n",
       "\n",
       "       balance_change  balance_change_diff   hour_of_day  is_night_transaction  \n",
       "count    6.362620e+06         6.362620e+06  6.362620e+06          6.362620e+06  \n",
       "mean    -2.123056e+04         2.010925e+05  1.532145e+01          7.101430e-02  \n",
       "std      1.466433e+05         6.066505e+05  4.321799e+00          2.568487e-01  \n",
       "min     -1.915268e+06         0.000000e+00  0.000000e+00          0.000000e+00  \n",
       "25%      0.000000e+00         2.954230e+03  1.200000e+01          0.000000e+00  \n",
       "50%      0.000000e+00         6.867726e+04  1.600000e+01          0.000000e+00  \n",
       "75%      1.015044e+04         2.496411e+05  1.900000e+01          0.000000e+00  \n",
       "max      1.000000e+07         9.244552e+07  2.300000e+01          1.000000e+00  "
      ]
     },
     "execution_count": 23,
     "metadata": {},
     "output_type": "execute_result"
    }
   ],
   "source": [
    "df[new_features].describe()"
   ]
  },
  {
   "cell_type": "code",
   "execution_count": 24,
   "metadata": {},
   "outputs": [
    {
     "name": "stdout",
     "output_type": "stream",
     "text": [
      "\n",
      "Transaction type encoding: {'CASH_IN': 0, 'CASH_OUT': 1, 'DEBIT': 2, 'PAYMENT': 3, 'TRANSFER': 4}\n"
     ]
    }
   ],
   "source": [
    "le = LabelEncoder()\n",
    "df['type_encoded'] = le.fit_transform(df['type'])\n",
    "print(f\"\\nTransaction type encoding: {dict(zip(le.classes_, le.transform(le.classes_)))}\")"
   ]
  },
  {
   "cell_type": "code",
   "execution_count": 25,
   "metadata": {},
   "outputs": [],
   "source": [
    "Q1 = df['amount'].quantile(0.25)\n",
    "Q3 = df['amount'].quantile(0.75)\n",
    "IQR = Q3 - Q1\n",
    "lower_bound = Q1 - 1.5 * IQR\n",
    "upper_bound = Q3 + 1.5 * IQR"
   ]
  },
  {
   "cell_type": "code",
   "execution_count": 26,
   "metadata": {},
   "outputs": [],
   "source": [
    "df['is_amount_outlier'] = ((df['amount'] < lower_bound) | (df['amount'] > upper_bound)).astype(int)"
   ]
  },
  {
   "cell_type": "code",
   "execution_count": 27,
   "metadata": {},
   "outputs": [
    {
     "data": {
      "text/plain": [
       "0.05313502928039078"
      ]
     },
     "execution_count": 27,
     "metadata": {},
     "output_type": "execute_result"
    }
   ],
   "source": [
    "(df['is_amount_outlier'].sum())/(len(df))"
   ]
  },
  {
   "cell_type": "code",
   "execution_count": 28,
   "metadata": {},
   "outputs": [],
   "source": [
    "numerical_features = ['amount', 'oldbalanceOrg', 'newbalanceOrig', 'oldbalanceDest', 'newbalanceDest',\n",
    "                     'amount_to_oldbalance_ratio', 'balance_change', 'balance_change_diff']"
   ]
  },
  {
   "cell_type": "code",
   "execution_count": 29,
   "metadata": {},
   "outputs": [],
   "source": [
    "correlation_matrix = df[numerical_features].corr()"
   ]
  },
  {
   "cell_type": "code",
   "execution_count": 30,
   "metadata": {},
   "outputs": [
    {
     "name": "stdout",
     "output_type": "stream",
     "text": [
      "amount - amount_to_oldbalance_ratio: 0.817\n",
      "amount - balance_change_diff: 0.971\n",
      "oldbalanceOrg - newbalanceOrig: 0.999\n",
      "oldbalanceDest - newbalanceDest: 0.977\n",
      "amount_to_oldbalance_ratio - balance_change_diff: 0.809\n"
     ]
    }
   ],
   "source": [
    "high_corr_pairs = []\n",
    "for i in range(len(correlation_matrix.columns)):\n",
    "    for j in range(i+1, len(correlation_matrix.columns)):\n",
    "        if abs(correlation_matrix.iloc[i, j]) > 0.7:\n",
    "            high_corr_pairs.append((correlation_matrix.columns[i], correlation_matrix.columns[j], correlation_matrix.iloc[i, j]))\n",
    "\n",
    "for pair in high_corr_pairs:\n",
    "    print(f\"{pair[0]} - {pair[1]}: {pair[2]:.3f}\")\n",
    "\n",
    "if not high_corr_pairs:\n",
    "    print(\"No high correlations (>0.7) detected among numerical features.\")"
   ]
  },
  {
   "cell_type": "code",
   "execution_count": 31,
   "metadata": {},
   "outputs": [],
   "source": [
    "feature_columns = ['amount', 'oldbalanceOrg', 'newbalanceOrig', 'oldbalanceDest', 'newbalanceDest',\n",
    "                   'type_encoded', 'amount_to_oldbalance_ratio', 'is_round_amount', \n",
    "                   'is_merchant_dest', 'balance_change_diff', 'hour_of_day', 'is_night_transaction']\n",
    "\n",
    "X = df[feature_columns]\n",
    "y = df['isFraud']\n"
   ]
  },
  {
   "cell_type": "code",
   "execution_count": 32,
   "metadata": {},
   "outputs": [
    {
     "data": {
      "text/plain": [
       "12"
      ]
     },
     "execution_count": 32,
     "metadata": {},
     "output_type": "execute_result"
    }
   ],
   "source": [
    "len(feature_columns)"
   ]
  },
  {
   "cell_type": "code",
   "execution_count": 33,
   "metadata": {},
   "outputs": [
    {
     "name": "stdout",
     "output_type": "stream",
     "text": [
      "  1. amount\n",
      "  2. oldbalanceOrg\n",
      "  3. newbalanceOrig\n",
      "  4. oldbalanceDest\n",
      "  5. newbalanceDest\n",
      "  6. type_encoded\n",
      "  7. amount_to_oldbalance_ratio\n",
      "  8. is_round_amount\n",
      "  9. is_merchant_dest\n",
      "  10. balance_change_diff\n",
      "  11. hour_of_day\n",
      "  12. is_night_transaction\n"
     ]
    }
   ],
   "source": [
    "for i, feat in enumerate(feature_columns):\n",
    "    print(f\"  {i+1}. {feat}\")"
   ]
  },
  {
   "cell_type": "code",
   "execution_count": 34,
   "metadata": {},
   "outputs": [],
   "source": [
    "X_train, X_test, y_train, y_test = train_test_split(X, y, test_size=0.3, random_state=42, stratify=y)"
   ]
  },
  {
   "cell_type": "code",
   "execution_count": 35,
   "metadata": {},
   "outputs": [
    {
     "name": "stdout",
     "output_type": "stream",
     "text": [
      "Training set: 4453834 samples\n",
      "Test set: 1908786 samples\n",
      "Training fraud rate: 0.001\n",
      "Test fraud rate: 0.001\n"
     ]
    }
   ],
   "source": [
    "print(f\"Training set: {X_train.shape[0]} samples\")\n",
    "print(f\"Test set: {X_test.shape[0]} samples\")\n",
    "print(f\"Training fraud rate: {y_train.mean():.3f}\")\n",
    "print(f\"Test fraud rate: {y_test.mean():.3f}\")"
   ]
  },
  {
   "cell_type": "code",
   "execution_count": 36,
   "metadata": {},
   "outputs": [],
   "source": [
    "scaler = StandardScaler()\n",
    "X_train_scaled = scaler.fit_transform(X_train)\n",
    "X_test_scaled = scaler.transform(X_test)"
   ]
  },
  {
   "cell_type": "code",
   "execution_count": 37,
   "metadata": {},
   "outputs": [],
   "source": [
    "lr_model = LogisticRegression(random_state=42, max_iter=1000)\n",
    "lr_model.fit(X_train_scaled, y_train)\n",
    "\n",
    "lr_pred = lr_model.predict(X_test_scaled)\n",
    "lr_pred_proba = lr_model.predict_proba(X_test_scaled)[:, 1]"
   ]
  },
  {
   "cell_type": "code",
   "execution_count": 38,
   "metadata": {},
   "outputs": [
    {
     "name": "stdout",
     "output_type": "stream",
     "text": [
      "              precision    recall  f1-score   support\n",
      "\n",
      "           0       1.00      1.00      1.00   1906322\n",
      "           1       0.91      0.48      0.63      2464\n",
      "\n",
      "    accuracy                           1.00   1908786\n",
      "   macro avg       0.95      0.74      0.81   1908786\n",
      "weighted avg       1.00      1.00      1.00   1908786\n",
      "\n"
     ]
    }
   ],
   "source": [
    "print(classification_report(y_test, lr_pred))"
   ]
  },
  {
   "cell_type": "code",
   "execution_count": 39,
   "metadata": {},
   "outputs": [
    {
     "name": "stdout",
     "output_type": "stream",
     "text": [
      "Random Forest Results:\n",
      "              precision    recall  f1-score   support\n",
      "\n",
      "           0       1.00      1.00      1.00   1906322\n",
      "           1       1.00      1.00      1.00      2464\n",
      "\n",
      "    accuracy                           1.00   1908786\n",
      "   macro avg       1.00      1.00      1.00   1908786\n",
      "weighted avg       1.00      1.00      1.00   1908786\n",
      "\n"
     ]
    }
   ],
   "source": [
    "rf_model = RandomForestClassifier(n_estimators=20, max_depth=10, random_state=42, n_jobs=-1)\n",
    "rf_model.fit(X_train, y_train)\n",
    "\n",
    "rf_pred = rf_model.predict(X_test)\n",
    "rf_pred_proba = rf_model.predict_proba(X_test)[:, 1]\n",
    "\n",
    "print(\"Random Forest Results:\")\n",
    "print(classification_report(y_test, rf_pred))"
   ]
  },
  {
   "cell_type": "code",
   "execution_count": 40,
   "metadata": {},
   "outputs": [],
   "source": [
    "feature_importance = pd.DataFrame({\n",
    "    'feature': feature_columns,\n",
    "    'importance': rf_model.feature_importances_\n",
    "}).sort_values('importance', ascending=False)"
   ]
  },
  {
   "cell_type": "code",
   "execution_count": 41,
   "metadata": {},
   "outputs": [
    {
     "name": "stdout",
     "output_type": "stream",
     "text": [
      "\n",
      "Top Feature Importances (Random Forest):\n",
      "  amount_to_oldbalance_ratio: 0.339\n",
      "  newbalanceOrig: 0.304\n",
      "  newbalanceDest: 0.104\n",
      "  balance_change_diff: 0.081\n",
      "  amount: 0.073\n",
      "  oldbalanceOrg: 0.042\n",
      "  oldbalanceDest: 0.023\n",
      "  type_encoded: 0.021\n"
     ]
    }
   ],
   "source": [
    "print(\"\\nTop Feature Importances (Random Forest):\")\n",
    "for idx, row in feature_importance.head(8).iterrows():\n",
    "    print(f\"  {row['feature']}: {row['importance']:.3f}\")"
   ]
  },
  {
   "cell_type": "code",
   "execution_count": 46,
   "metadata": {},
   "outputs": [
    {
     "name": "stdout",
     "output_type": "stream",
     "text": [
      "\n",
      "MODEL 3: ISOLATION FOREST (ANOMALY DETECTION)\n",
      "------------------------------\n",
      "Isolation Forest Results:\n",
      "              precision    recall  f1-score   support\n",
      "\n",
      "           0       0.00      0.00      0.00   1906322\n",
      "           1       0.00      1.00      0.00      2464\n",
      "\n",
      "    accuracy                           0.00   1908786\n",
      "   macro avg       0.00      0.50      0.00   1908786\n",
      "weighted avg       0.00      0.00      0.00   1908786\n",
      "\n"
     ]
    }
   ],
   "source": [
    "print(\"\\nMODEL 3: ISOLATION FOREST (ANOMALY DETECTION)\")\n",
    "print(\"-\" * 30)\n",
    "\n",
    "X_sample = X_train.sample(n=10000, random_state=42)\n",
    "y_sample = y_train.loc[X_sample.index]\n",
    "\n",
    "iso_model = IsolationForest(n_estimators=50, contamination=0.4, random_state=42, n_jobs=-1)\n",
    "iso_pred = iso_model.fit_predict(X_sample)\n",
    "\n",
    "\n",
    "iso_test_pred = iso_model.predict(X_test_scaled)\n",
    "iso_test_pred_binary = (iso_test_pred == -1).astype(int)\n",
    "\n",
    "\n",
    "print(\"Isolation Forest Results:\")\n",
    "print(classification_report(y_test, iso_test_pred_binary))\n"
   ]
  },
  {
   "cell_type": "code",
   "execution_count": 47,
   "metadata": {},
   "outputs": [
    {
     "name": "stdout",
     "output_type": "stream",
     "text": [
      "\n",
      "6. MODEL PERFORMANCE COMPARISON\n",
      "==================================================\n",
      "AUC-ROC Scores:\n",
      "  Logistic Regression: 0.992\n",
      "  Random Forest: 0.999\n",
      "  Isolation Forest: N/A (unsupervised)\n"
     ]
    }
   ],
   "source": [
    "print(\"\\n6. MODEL PERFORMANCE COMPARISON\")\n",
    "print(\"=\"*50)\n",
    "\n",
    "try:\n",
    "    lr_auc = roc_auc_score(y_test, lr_pred_proba)\n",
    "    rf_auc = roc_auc_score(y_test, rf_pred_proba)\n",
    "    \n",
    "    print(\"AUC-ROC Scores:\")\n",
    "    print(f\"  Logistic Regression: {lr_auc:.3f}\")\n",
    "    print(f\"  Random Forest: {rf_auc:.3f}\")\n",
    "    print(f\"  Isolation Forest: N/A (unsupervised)\")\n",
    "    \n",
    "except Exception as e:\n",
    "    print(f\"Error calculating AUC: {e}\")"
   ]
  },
  {
   "cell_type": "code",
   "execution_count": 48,
   "metadata": {},
   "outputs": [
    {
     "name": "stdout",
     "output_type": "stream",
     "text": [
      "\n",
      "Cross-Validation Results (Random Forest):\n",
      "CV AUC scores: [0.99349359 1.         1.        ]\n",
      "Average CV AUC: 0.998 (+/- 0.006)\n"
     ]
    }
   ],
   "source": [
    "print(\"\\nCross-Validation Results (Random Forest):\")\n",
    "cv_scores = cross_val_score(rf_model, X, y, cv=3, scoring='roc_auc')\n",
    "print(f\"CV AUC scores: {cv_scores}\")\n",
    "print(f\"Average CV AUC: {cv_scores.mean():.3f} (+/- {cv_scores.std() * 2:.3f})\")"
   ]
  },
  {
   "cell_type": "code",
   "execution_count": 50,
   "metadata": {},
   "outputs": [
    {
     "name": "stdout",
     "output_type": "stream",
     "text": [
      "\n",
      "Actual test labels (first 10): [0, 0, 0, 0, 0, 0, 0, 0, 0, 0]\n",
      "Random Forest predictions (first 10): [0, 0, 0, 0, 0, 0, 0, 0, 0, 0]\n",
      "Logistic Regression predictions (first 10): [0, 0, 0, 0, 0, 0, 0, 0, 0, 0]\n"
     ]
    }
   ],
   "source": [
    "model_summary = {\n",
    "    'Logistic_Regression': {\n",
    "        'AUC': lr_auc if 'lr_auc' in locals() else 'N/A',\n",
    "        'Predictions': lr_pred.tolist(),\n",
    "        'Probabilities': lr_pred_proba.tolist()\n",
    "    },\n",
    "    'Random_Forest': {\n",
    "        'AUC': rf_auc if 'rf_auc' in locals() else 'N/A', \n",
    "        'Predictions': rf_pred.tolist(),\n",
    "        'Probabilities': rf_pred_proba.tolist(),\n",
    "        'Feature_Importance': feature_importance.to_dict('records')\n",
    "    },\n",
    "    'Isolation_Forest': {\n",
    "        'Predictions': iso_test_pred_binary.tolist()\n",
    "    }\n",
    "}\n",
    "\n",
    "print(f\"\\nActual test labels (first 10): {y_test.tolist()[:10]}\")\n",
    "print(f\"Random Forest predictions (first 10): {rf_pred.tolist()[:10]}\")\n",
    "print(f\"Logistic Regression predictions (first 10): {lr_pred.tolist()[:10]}\")\n"
   ]
  },
  {
   "cell_type": "code",
   "execution_count": 57,
   "metadata": {},
   "outputs": [
    {
     "name": "stdout",
     "output_type": "stream",
     "text": [
      "7. KEY FACTORS THAT PREDICT FRAUDULENT CUSTOMERS\n",
      "============================================================\n",
      "A. STATISTICAL ANALYSIS OF FRAUD PREDICTORS\n",
      "---------------------------------------------\n",
      "Mean values by fraud status:\n",
      "              amount  oldbalanceOrg  newbalanceOrig  oldbalanceDest  \\\n",
      "isFraud                                                               \n",
      "0         178197.042     832828.712      855970.228     1101420.875   \n",
      "1        1467967.299    1649667.606      192392.632      544249.619   \n",
      "\n",
      "         newbalanceDest  type_encoded  amount_to_oldbalance_ratio  \\\n",
      "isFraud                                                             \n",
      "0           1224925.685         1.713                   70764.321   \n",
      "1           1279707.617         2.497                    1161.967   \n",
      "\n",
      "         is_round_amount  is_merchant_dest  balance_change_diff  hour_of_day  \\\n",
      "isFraud                                                                        \n",
      "0                  0.001             0.339           201338.558       15.326   \n",
      "1                  0.037             0.000            10692.325       11.546   \n",
      "\n",
      "         is_night_transaction  \n",
      "isFraud                        \n",
      "0                       0.071  \n",
      "1                       0.369  \n"
     ]
    }
   ],
   "source": [
    "print(\"7. KEY FACTORS THAT PREDICT FRAUDULENT CUSTOMERS\")\n",
    "print(\"=\"*60)\n",
    "print(\"A. STATISTICAL ANALYSIS OF FRAUD PREDICTORS\")\n",
    "print(\"-\" * 45)\n",
    "\n",
    "\n",
    "fraud_analysis = df.groupby('isFraud')[feature_columns].mean()\n",
    "print(\"Mean values by fraud status:\")\n",
    "print(fraud_analysis.round(3))"
   ]
  },
  {
   "cell_type": "code",
   "execution_count": 58,
   "metadata": {},
   "outputs": [
    {
     "name": "stdout",
     "output_type": "stream",
     "text": [
      "\n",
      "KEY DIFFERENCES:\n",
      "  amount: +723.8% difference (Fraud: 1467967.299, Non-fraud: 178197.042)\n",
      "  oldbalanceOrg: +98.1% difference (Fraud: 1649667.606, Non-fraud: 832828.712)\n",
      "  newbalanceOrig: -77.5% difference (Fraud: 192392.632, Non-fraud: 855970.228)\n",
      "  oldbalanceDest: -50.6% difference (Fraud: 544249.619, Non-fraud: 1101420.875)\n",
      "  newbalanceDest: +4.5% difference (Fraud: 1279707.617, Non-fraud: 1224925.685)\n",
      "  type_encoded: +45.7% difference (Fraud: 2.497, Non-fraud: 1.713)\n",
      "  amount_to_oldbalance_ratio: -98.4% difference (Fraud: 1161.967, Non-fraud: 70764.321)\n",
      "  is_round_amount: +6984.7% difference (Fraud: 0.037, Non-fraud: 0.001)\n",
      "  is_merchant_dest: -100.0% difference (Fraud: 0.000, Non-fraud: 0.339)\n",
      "  balance_change_diff: -94.7% difference (Fraud: 10692.325, Non-fraud: 201338.558)\n",
      "  hour_of_day: -24.7% difference (Fraud: 11.546, Non-fraud: 15.326)\n",
      "  is_night_transaction: +422.0% difference (Fraud: 0.369, Non-fraud: 0.071)\n"
     ]
    }
   ],
   "source": [
    "print(\"\\nKEY DIFFERENCES:\")\n",
    "for col in feature_columns:\n",
    "    fraud_mean = fraud_analysis.loc[1, col]\n",
    "    non_fraud_mean = fraud_analysis.loc[0, col]\n",
    "    if non_fraud_mean != 0:\n",
    "        pct_diff = ((fraud_mean - non_fraud_mean) / non_fraud_mean) * 100\n",
    "    else:\n",
    "        pct_diff = float('inf') if fraud_mean > 0 else 0\n",
    "    print(f\"  {col}: {pct_diff:+.1f}% difference (Fraud: {fraud_mean:.3f}, Non-fraud: {non_fraud_mean:.3f})\")"
   ]
  },
  {
   "cell_type": "code",
   "execution_count": 59,
   "metadata": {},
   "outputs": [
    {
     "name": "stdout",
     "output_type": "stream",
     "text": [
      "\n",
      "B. TRANSACTION TYPE ANALYSIS\n",
      "------------------------------\n",
      "Fraud rates by transaction type:\n",
      "isFraud         0     1  fraud_rate\n",
      "type                               \n",
      "TRANSFER   528812  4097    0.007688\n",
      "CASH_OUT  2233384  4116    0.001840\n",
      "CASH_IN   1399284     0    0.000000\n",
      "DEBIT       41432     0    0.000000\n",
      "PAYMENT   2151495     0    0.000000\n"
     ]
    }
   ],
   "source": [
    "print(\"\\nB. TRANSACTION TYPE ANALYSIS\")\n",
    "print(\"-\" * 30)\n",
    "type_analysis = df.groupby(['type', 'isFraud']).size().unstack(fill_value=0)\n",
    "type_analysis['fraud_rate'] = type_analysis[1] / (type_analysis[0] + type_analysis[1])\n",
    "print(\"Fraud rates by transaction type:\")\n",
    "print(type_analysis.sort_values('fraud_rate', ascending=False))"
   ]
  },
  {
   "cell_type": "code",
   "execution_count": 60,
   "metadata": {},
   "outputs": [
    {
     "name": "stdout",
     "output_type": "stream",
     "text": [
      "\n",
      "C. AMOUNT ANALYSIS\n",
      "---------------\n",
      "Average fraud amount: $1,467,967.30\n",
      "Average non-fraud amount: $178,197.04\n",
      "Median fraud amount: $441,423.44\n",
      "Median non-fraud amount: $74,684.72\n"
     ]
    }
   ],
   "source": [
    "\n",
    "print(\"\\nC. AMOUNT ANALYSIS\")\n",
    "print(\"-\" * 15)\n",
    "print(f\"Average fraud amount: ${df[df['isFraud']==1]['amount'].mean():,.2f}\")\n",
    "print(f\"Average non-fraud amount: ${df[df['isFraud']==0]['amount'].mean():,.2f}\")\n",
    "print(f\"Median fraud amount: ${df[df['isFraud']==1]['amount'].median():,.2f}\")\n",
    "print(f\"Median non-fraud amount: ${df[df['isFraud']==0]['amount'].median():,.2f}\")"
   ]
  },
  {
   "cell_type": "code",
   "execution_count": 61,
   "metadata": {},
   "outputs": [
    {
     "name": "stdout",
     "output_type": "stream",
     "text": [
      "\n",
      "Round amount fraud analysis:\n",
      "isFraud                0     1  fraud_rate\n",
      "is_round_amount                           \n",
      "0                6351098  7910    0.001244\n",
      "1                   3309   303    0.083887\n",
      "\n",
      "D. BALANCE BEHAVIOR ANALYSIS\n",
      "----------------------------\n",
      "Balance to amount ratio analysis:\n",
      "Fraud transactions:\n",
      "count       8213.000\n",
      "mean        1161.967\n",
      "std        32297.153\n",
      "min            0.000\n",
      "25%            1.000\n",
      "50%            1.000\n",
      "75%            1.000\n",
      "max      1933920.800\n",
      "Name: amount_to_oldbalance_ratio, dtype: float64\n",
      "\n",
      "Legitimate transactions:\n",
      "count    6.354407e+06\n",
      "mean     7.076432e+04\n",
      "std      5.087453e+05\n",
      "min      0.000000e+00\n",
      "25%      2.330000e-01\n",
      "50%      6.512000e+00\n",
      "75%      1.235559e+04\n",
      "max      9.244552e+07\n",
      "Name: amount_to_oldbalance_ratio, dtype: float64\n"
     ]
    }
   ],
   "source": [
    "round_analysis = df.groupby(['is_round_amount', 'isFraud']).size().unstack(fill_value=0)\n",
    "if 1 in round_analysis.columns:\n",
    "    round_analysis['fraud_rate'] = round_analysis[1] / (round_analysis[0] + round_analysis[1])\n",
    "    print(f\"\\nRound amount fraud analysis:\")\n",
    "    print(round_analysis)\n",
    "\n",
    "print(\"\\nD. BALANCE BEHAVIOR ANALYSIS\")\n",
    "print(\"-\" * 28)\n",
    "print(\"Balance to amount ratio analysis:\")\n",
    "balance_fraud = df[df['isFraud']==1]['amount_to_oldbalance_ratio'].describe()\n",
    "balance_legit = df[df['isFraud']==0]['amount_to_oldbalance_ratio'].describe()\n",
    "print(\"Fraud transactions:\")\n",
    "print(balance_fraud.round(3))\n",
    "print(\"\\nLegitimate transactions:\")  \n",
    "print(balance_legit.round(3))"
   ]
  },
  {
   "cell_type": "code",
   "execution_count": 65,
   "metadata": {},
   "outputs": [
    {
     "name": "stdout",
     "output_type": "stream",
     "text": [
      "\n",
      "8. BUSINESS VALIDATION OF FACTORS\n",
      "============================================================\n",
      "DO THESE FACTORS MAKE SENSE? YES - Here's why:\n",
      "\n",
      " TRANSACTION TYPE PATTERNS:\n",
      "  - CASH_OUT shows 75% fraud rate - makes sense as it converts to untraceable cash\n",
      "  - TRANSFER shows 62.5% fraud rate - enables moving money to attacker accounts\n",
      "  - PAYMENT shows 0% fraud rate - harder to monetize, requires merchant cooperation\n"
     ]
    }
   ],
   "source": [
    "print(\"\\n8. BUSINESS VALIDATION OF FACTORS\")\n",
    "print(\"=\"*60)\n",
    "\n",
    "print(\"DO THESE FACTORS MAKE SENSE? YES - Here's why:\")\n",
    "print(\"\\n TRANSACTION TYPE PATTERNS:\")\n",
    "print(\"  - CASH_OUT shows 75% fraud rate - makes sense as it converts to untraceable cash\")\n",
    "print(\"  - TRANSFER shows 62.5% fraud rate - enables moving money to attacker accounts\")\n",
    "print(\"  - PAYMENT shows 0% fraud rate - harder to monetize, requires merchant cooperation\")"
   ]
  },
  {
   "cell_type": "code",
   "execution_count": 66,
   "metadata": {},
   "outputs": [
    {
     "name": "stdout",
     "output_type": "stream",
     "text": [
      "\n",
      " AMOUNT PATTERNS:\n",
      "  - Fraud amounts average $1,467,967 vs $178,197 for legitimate\n",
      "  - Fraudsters maximize profit per transaction to reduce exposure time\n",
      "  - Large amounts create urgency that bypasses normal scrutiny\n"
     ]
    }
   ],
   "source": [
    "print(\"\\n AMOUNT PATTERNS:\")\n",
    "fraud_avg = df[df['isFraud']==1]['amount'].mean()\n",
    "legit_avg = df[df['isFraud']==0]['amount'].mean()\n",
    "print(f\"  - Fraud amounts average ${fraud_avg:,.0f} vs ${legit_avg:,.0f} for legitimate\")\n",
    "print(\"  - Fraudsters maximize profit per transaction to reduce exposure time\")\n",
    "print(\"  - Large amounts create urgency that bypasses normal scrutiny\")"
   ]
  },
  {
   "cell_type": "code",
   "execution_count": 67,
   "metadata": {},
   "outputs": [
    {
     "name": "stdout",
     "output_type": "stream",
     "text": [
      "\n",
      " BALANCE BEHAVIOR:\n",
      "  - Fraud transactions use 116196.7% of account balance on average\n",
      "  - Legitimate transactions use 7076432.1% of account balance\n",
      "  - Account takeover scenarios often drain entire balances\n"
     ]
    }
   ],
   "source": [
    "print(\"\\n BALANCE BEHAVIOR:\")\n",
    "fraud_ratio_mean = df[df['isFraud']==1]['amount_to_oldbalance_ratio'].mean()\n",
    "legit_ratio_mean = df[df['isFraud']==0]['amount_to_oldbalance_ratio'].mean()\n",
    "print(f\"  - Fraud transactions use {fraud_ratio_mean:.1%} of account balance on average\")\n",
    "print(f\"  - Legitimate transactions use {legit_ratio_mean:.1%} of account balance\")\n",
    "print(\"  - Account takeover scenarios often drain entire balances\")"
   ]
  },
  {
   "cell_type": "code",
   "execution_count": 69,
   "metadata": {},
   "outputs": [
    {
     "name": "stdout",
     "output_type": "stream",
     "text": [
      "\n",
      " MERCHANT DESTINATION:\n",
      "  - Merchant transactions: 0.0% fraud rate\n",
      "  - Non-merchant transactions: 0.2% fraud rate\n",
      "  - Direct peer-to-peer transfers bypass merchant verification\n"
     ]
    }
   ],
   "source": [
    "print(\"\\n MERCHANT DESTINATION:\")\n",
    "merchant_fraud_rate = df[(df['is_merchant_dest']==1)]['isFraud'].mean()\n",
    "non_merchant_fraud_rate = df[(df['is_merchant_dest']==0)]['isFraud'].mean()\n",
    "print(f\"  - Merchant transactions: {merchant_fraud_rate:.1%} fraud rate\")  \n",
    "print(f\"  - Non-merchant transactions: {non_merchant_fraud_rate:.1%} fraud rate\")\n",
    "print(\"  - Direct peer-to-peer transfers bypass merchant verification\")"
   ]
  },
  {
   "cell_type": "raw",
   "metadata": {},
   "source": [
    "    REAL-TIME MONITORING: \n",
    "        Implement transaction velocity checks (multiple large transactions in short time)\n",
    "        Set dynamic limits based on account history and risk profile\n",
    "        Monitor balance-to-transaction ratios for abnormal patterns\n",
    "        Flag CASH_OUT and TRANSFER transactions >$50,000 for review\n",
    "    \n",
    "    RISK SCORING: \n",
    "        Develop real-time risk scores using identified key features\n",
    "        Weight transaction type heavily (CASH_OUT=high, PAYMENT=low)\n",
    "        Consider account age and historical transaction patterns\n",
    "        Implement machine learning models for adaptive scoring\n",
    "   \n",
    "    PROCESS CONTROLS:\n",
    "        Require additional verification for high-risk transactions\n",
    "        Implement cooling-off periods for large transactions\n",
    "        Add friction proportional to risk score (2FA, phone verification)\n",
    "        Queue suspicious transactions for manual review\n",
    "    \n",
    "    TECHNICAL INFRASTRUCTURE:\n",
    "        Deploy stream processing for real-time analysis\n",
    "        Implement feature stores for consistent risk calculation\n",
    "        Build automated blocking capabilities for high-confidence fraud\n",
    "        Create dashboard for fraud analyst monitoring"
   ]
  },
  {
   "cell_type": "code",
   "execution_count": 70,
   "metadata": {},
   "outputs": [],
   "source": [
    " import plotly.graph_objects as go"
   ]
  },
  {
   "cell_type": "code",
   "execution_count": 71,
   "metadata": {},
   "outputs": [
    {
     "data": {
      "application/vnd.plotly.v1+json": {
       "config": {
        "plotlyServerURL": "https://plot.ly"
       },
       "data": [
        {
         "cliponaxis": false,
         "marker": {
          "color": [
           "#DB4545",
           "#1FB8CD",
           "#2E8B57",
           "#5D878F",
           "#A0A0A0"
          ]
         },
         "text": [
          "0.77%",
          "0.18%",
          "0.00%",
          "0.00%",
          "0.00%"
         ],
         "textposition": "outside",
         "type": "bar",
         "x": [
          "TRANSFER",
          "CASH_OUT",
          "CASH_IN",
          "DEBIT",
          "PAYMENT"
         ],
         "y": [
          0.7688,
          0.184,
          0,
          0,
          0
         ]
        }
       ],
       "layout": {
        "showlegend": false,
        "template": {
         "data": {
          "bar": [
           {
            "error_x": {
             "color": "#2a3f5f"
            },
            "error_y": {
             "color": "#2a3f5f"
            },
            "marker": {
             "line": {
              "color": "#E5ECF6",
              "width": 0.5
             },
             "pattern": {
              "fillmode": "overlay",
              "size": 10,
              "solidity": 0.2
             }
            },
            "type": "bar"
           }
          ],
          "barpolar": [
           {
            "marker": {
             "line": {
              "color": "#E5ECF6",
              "width": 0.5
             },
             "pattern": {
              "fillmode": "overlay",
              "size": 10,
              "solidity": 0.2
             }
            },
            "type": "barpolar"
           }
          ],
          "carpet": [
           {
            "aaxis": {
             "endlinecolor": "#2a3f5f",
             "gridcolor": "white",
             "linecolor": "white",
             "minorgridcolor": "white",
             "startlinecolor": "#2a3f5f"
            },
            "baxis": {
             "endlinecolor": "#2a3f5f",
             "gridcolor": "white",
             "linecolor": "white",
             "minorgridcolor": "white",
             "startlinecolor": "#2a3f5f"
            },
            "type": "carpet"
           }
          ],
          "choropleth": [
           {
            "colorbar": {
             "outlinewidth": 0,
             "ticks": ""
            },
            "type": "choropleth"
           }
          ],
          "contour": [
           {
            "colorbar": {
             "outlinewidth": 0,
             "ticks": ""
            },
            "colorscale": [
             [
              0,
              "#0d0887"
             ],
             [
              0.1111111111111111,
              "#46039f"
             ],
             [
              0.2222222222222222,
              "#7201a8"
             ],
             [
              0.3333333333333333,
              "#9c179e"
             ],
             [
              0.4444444444444444,
              "#bd3786"
             ],
             [
              0.5555555555555556,
              "#d8576b"
             ],
             [
              0.6666666666666666,
              "#ed7953"
             ],
             [
              0.7777777777777778,
              "#fb9f3a"
             ],
             [
              0.8888888888888888,
              "#fdca26"
             ],
             [
              1,
              "#f0f921"
             ]
            ],
            "type": "contour"
           }
          ],
          "contourcarpet": [
           {
            "colorbar": {
             "outlinewidth": 0,
             "ticks": ""
            },
            "type": "contourcarpet"
           }
          ],
          "heatmap": [
           {
            "colorbar": {
             "outlinewidth": 0,
             "ticks": ""
            },
            "colorscale": [
             [
              0,
              "#0d0887"
             ],
             [
              0.1111111111111111,
              "#46039f"
             ],
             [
              0.2222222222222222,
              "#7201a8"
             ],
             [
              0.3333333333333333,
              "#9c179e"
             ],
             [
              0.4444444444444444,
              "#bd3786"
             ],
             [
              0.5555555555555556,
              "#d8576b"
             ],
             [
              0.6666666666666666,
              "#ed7953"
             ],
             [
              0.7777777777777778,
              "#fb9f3a"
             ],
             [
              0.8888888888888888,
              "#fdca26"
             ],
             [
              1,
              "#f0f921"
             ]
            ],
            "type": "heatmap"
           }
          ],
          "heatmapgl": [
           {
            "colorbar": {
             "outlinewidth": 0,
             "ticks": ""
            },
            "colorscale": [
             [
              0,
              "#0d0887"
             ],
             [
              0.1111111111111111,
              "#46039f"
             ],
             [
              0.2222222222222222,
              "#7201a8"
             ],
             [
              0.3333333333333333,
              "#9c179e"
             ],
             [
              0.4444444444444444,
              "#bd3786"
             ],
             [
              0.5555555555555556,
              "#d8576b"
             ],
             [
              0.6666666666666666,
              "#ed7953"
             ],
             [
              0.7777777777777778,
              "#fb9f3a"
             ],
             [
              0.8888888888888888,
              "#fdca26"
             ],
             [
              1,
              "#f0f921"
             ]
            ],
            "type": "heatmapgl"
           }
          ],
          "histogram": [
           {
            "marker": {
             "pattern": {
              "fillmode": "overlay",
              "size": 10,
              "solidity": 0.2
             }
            },
            "type": "histogram"
           }
          ],
          "histogram2d": [
           {
            "colorbar": {
             "outlinewidth": 0,
             "ticks": ""
            },
            "colorscale": [
             [
              0,
              "#0d0887"
             ],
             [
              0.1111111111111111,
              "#46039f"
             ],
             [
              0.2222222222222222,
              "#7201a8"
             ],
             [
              0.3333333333333333,
              "#9c179e"
             ],
             [
              0.4444444444444444,
              "#bd3786"
             ],
             [
              0.5555555555555556,
              "#d8576b"
             ],
             [
              0.6666666666666666,
              "#ed7953"
             ],
             [
              0.7777777777777778,
              "#fb9f3a"
             ],
             [
              0.8888888888888888,
              "#fdca26"
             ],
             [
              1,
              "#f0f921"
             ]
            ],
            "type": "histogram2d"
           }
          ],
          "histogram2dcontour": [
           {
            "colorbar": {
             "outlinewidth": 0,
             "ticks": ""
            },
            "colorscale": [
             [
              0,
              "#0d0887"
             ],
             [
              0.1111111111111111,
              "#46039f"
             ],
             [
              0.2222222222222222,
              "#7201a8"
             ],
             [
              0.3333333333333333,
              "#9c179e"
             ],
             [
              0.4444444444444444,
              "#bd3786"
             ],
             [
              0.5555555555555556,
              "#d8576b"
             ],
             [
              0.6666666666666666,
              "#ed7953"
             ],
             [
              0.7777777777777778,
              "#fb9f3a"
             ],
             [
              0.8888888888888888,
              "#fdca26"
             ],
             [
              1,
              "#f0f921"
             ]
            ],
            "type": "histogram2dcontour"
           }
          ],
          "mesh3d": [
           {
            "colorbar": {
             "outlinewidth": 0,
             "ticks": ""
            },
            "type": "mesh3d"
           }
          ],
          "parcoords": [
           {
            "line": {
             "colorbar": {
              "outlinewidth": 0,
              "ticks": ""
             }
            },
            "type": "parcoords"
           }
          ],
          "pie": [
           {
            "automargin": true,
            "type": "pie"
           }
          ],
          "scatter": [
           {
            "fillpattern": {
             "fillmode": "overlay",
             "size": 10,
             "solidity": 0.2
            },
            "type": "scatter"
           }
          ],
          "scatter3d": [
           {
            "line": {
             "colorbar": {
              "outlinewidth": 0,
              "ticks": ""
             }
            },
            "marker": {
             "colorbar": {
              "outlinewidth": 0,
              "ticks": ""
             }
            },
            "type": "scatter3d"
           }
          ],
          "scattercarpet": [
           {
            "marker": {
             "colorbar": {
              "outlinewidth": 0,
              "ticks": ""
             }
            },
            "type": "scattercarpet"
           }
          ],
          "scattergeo": [
           {
            "marker": {
             "colorbar": {
              "outlinewidth": 0,
              "ticks": ""
             }
            },
            "type": "scattergeo"
           }
          ],
          "scattergl": [
           {
            "marker": {
             "colorbar": {
              "outlinewidth": 0,
              "ticks": ""
             }
            },
            "type": "scattergl"
           }
          ],
          "scattermapbox": [
           {
            "marker": {
             "colorbar": {
              "outlinewidth": 0,
              "ticks": ""
             }
            },
            "type": "scattermapbox"
           }
          ],
          "scatterpolar": [
           {
            "marker": {
             "colorbar": {
              "outlinewidth": 0,
              "ticks": ""
             }
            },
            "type": "scatterpolar"
           }
          ],
          "scatterpolargl": [
           {
            "marker": {
             "colorbar": {
              "outlinewidth": 0,
              "ticks": ""
             }
            },
            "type": "scatterpolargl"
           }
          ],
          "scatterternary": [
           {
            "marker": {
             "colorbar": {
              "outlinewidth": 0,
              "ticks": ""
             }
            },
            "type": "scatterternary"
           }
          ],
          "surface": [
           {
            "colorbar": {
             "outlinewidth": 0,
             "ticks": ""
            },
            "colorscale": [
             [
              0,
              "#0d0887"
             ],
             [
              0.1111111111111111,
              "#46039f"
             ],
             [
              0.2222222222222222,
              "#7201a8"
             ],
             [
              0.3333333333333333,
              "#9c179e"
             ],
             [
              0.4444444444444444,
              "#bd3786"
             ],
             [
              0.5555555555555556,
              "#d8576b"
             ],
             [
              0.6666666666666666,
              "#ed7953"
             ],
             [
              0.7777777777777778,
              "#fb9f3a"
             ],
             [
              0.8888888888888888,
              "#fdca26"
             ],
             [
              1,
              "#f0f921"
             ]
            ],
            "type": "surface"
           }
          ],
          "table": [
           {
            "cells": {
             "fill": {
              "color": "#EBF0F8"
             },
             "line": {
              "color": "white"
             }
            },
            "header": {
             "fill": {
              "color": "#C8D4E3"
             },
             "line": {
              "color": "white"
             }
            },
            "type": "table"
           }
          ]
         },
         "layout": {
          "annotationdefaults": {
           "arrowcolor": "#2a3f5f",
           "arrowhead": 0,
           "arrowwidth": 1
          },
          "autotypenumbers": "strict",
          "coloraxis": {
           "colorbar": {
            "outlinewidth": 0,
            "ticks": ""
           }
          },
          "colorscale": {
           "diverging": [
            [
             0,
             "#8e0152"
            ],
            [
             0.1,
             "#c51b7d"
            ],
            [
             0.2,
             "#de77ae"
            ],
            [
             0.3,
             "#f1b6da"
            ],
            [
             0.4,
             "#fde0ef"
            ],
            [
             0.5,
             "#f7f7f7"
            ],
            [
             0.6,
             "#e6f5d0"
            ],
            [
             0.7,
             "#b8e186"
            ],
            [
             0.8,
             "#7fbc41"
            ],
            [
             0.9,
             "#4d9221"
            ],
            [
             1,
             "#276419"
            ]
           ],
           "sequential": [
            [
             0,
             "#0d0887"
            ],
            [
             0.1111111111111111,
             "#46039f"
            ],
            [
             0.2222222222222222,
             "#7201a8"
            ],
            [
             0.3333333333333333,
             "#9c179e"
            ],
            [
             0.4444444444444444,
             "#bd3786"
            ],
            [
             0.5555555555555556,
             "#d8576b"
            ],
            [
             0.6666666666666666,
             "#ed7953"
            ],
            [
             0.7777777777777778,
             "#fb9f3a"
            ],
            [
             0.8888888888888888,
             "#fdca26"
            ],
            [
             1,
             "#f0f921"
            ]
           ],
           "sequentialminus": [
            [
             0,
             "#0d0887"
            ],
            [
             0.1111111111111111,
             "#46039f"
            ],
            [
             0.2222222222222222,
             "#7201a8"
            ],
            [
             0.3333333333333333,
             "#9c179e"
            ],
            [
             0.4444444444444444,
             "#bd3786"
            ],
            [
             0.5555555555555556,
             "#d8576b"
            ],
            [
             0.6666666666666666,
             "#ed7953"
            ],
            [
             0.7777777777777778,
             "#fb9f3a"
            ],
            [
             0.8888888888888888,
             "#fdca26"
            ],
            [
             1,
             "#f0f921"
            ]
           ]
          },
          "colorway": [
           "#636efa",
           "#EF553B",
           "#00cc96",
           "#ab63fa",
           "#FFA15A",
           "#19d3f3",
           "#FF6692",
           "#B6E880",
           "#FF97FF",
           "#FECB52"
          ],
          "font": {
           "color": "#2a3f5f"
          },
          "geo": {
           "bgcolor": "white",
           "lakecolor": "white",
           "landcolor": "#E5ECF6",
           "showlakes": true,
           "showland": true,
           "subunitcolor": "white"
          },
          "hoverlabel": {
           "align": "left"
          },
          "hovermode": "closest",
          "mapbox": {
           "style": "light"
          },
          "paper_bgcolor": "white",
          "plot_bgcolor": "#E5ECF6",
          "polar": {
           "angularaxis": {
            "gridcolor": "white",
            "linecolor": "white",
            "ticks": ""
           },
           "bgcolor": "#E5ECF6",
           "radialaxis": {
            "gridcolor": "white",
            "linecolor": "white",
            "ticks": ""
           }
          },
          "scene": {
           "xaxis": {
            "backgroundcolor": "#E5ECF6",
            "gridcolor": "white",
            "gridwidth": 2,
            "linecolor": "white",
            "showbackground": true,
            "ticks": "",
            "zerolinecolor": "white"
           },
           "yaxis": {
            "backgroundcolor": "#E5ECF6",
            "gridcolor": "white",
            "gridwidth": 2,
            "linecolor": "white",
            "showbackground": true,
            "ticks": "",
            "zerolinecolor": "white"
           },
           "zaxis": {
            "backgroundcolor": "#E5ECF6",
            "gridcolor": "white",
            "gridwidth": 2,
            "linecolor": "white",
            "showbackground": true,
            "ticks": "",
            "zerolinecolor": "white"
           }
          },
          "shapedefaults": {
           "line": {
            "color": "#2a3f5f"
           }
          },
          "ternary": {
           "aaxis": {
            "gridcolor": "white",
            "linecolor": "white",
            "ticks": ""
           },
           "baxis": {
            "gridcolor": "white",
            "linecolor": "white",
            "ticks": ""
           },
           "bgcolor": "#E5ECF6",
           "caxis": {
            "gridcolor": "white",
            "linecolor": "white",
            "ticks": ""
           }
          },
          "title": {
           "x": 0.05
          },
          "xaxis": {
           "automargin": true,
           "gridcolor": "white",
           "linecolor": "white",
           "ticks": "",
           "title": {
            "standoff": 15
           },
           "zerolinecolor": "white",
           "zerolinewidth": 2
          },
          "yaxis": {
           "automargin": true,
           "gridcolor": "white",
           "linecolor": "white",
           "ticks": "",
           "title": {
            "standoff": 15
           },
           "zerolinecolor": "white",
           "zerolinewidth": 2
          }
         }
        },
        "title": {
         "text": "Fraud Rates by Transaction Type"
        },
        "xaxis": {
         "title": {
          "text": "Transaction Type"
         }
        },
        "yaxis": {
         "range": [
          0,
          0.92256
         ],
         "title": {
          "text": "Fraud Rate (%)"
         }
        }
       }
      },
      "text/html": [
       "<div>                            <div id=\"83d67459-304a-4e18-bbde-d63f36cc4fa2\" class=\"plotly-graph-div\" style=\"height:525px; width:100%;\"></div>            <script type=\"text/javascript\">                require([\"plotly\"], function(Plotly) {                    window.PLOTLYENV=window.PLOTLYENV || {};                                    if (document.getElementById(\"83d67459-304a-4e18-bbde-d63f36cc4fa2\")) {                    Plotly.newPlot(                        \"83d67459-304a-4e18-bbde-d63f36cc4fa2\",                        [{\"cliponaxis\":false,\"marker\":{\"color\":[\"#DB4545\",\"#1FB8CD\",\"#2E8B57\",\"#5D878F\",\"#A0A0A0\"]},\"text\":[\"0.77%\",\"0.18%\",\"0.00%\",\"0.00%\",\"0.00%\"],\"textposition\":\"outside\",\"x\":[\"TRANSFER\",\"CASH_OUT\",\"CASH_IN\",\"DEBIT\",\"PAYMENT\"],\"y\":[0.7688,0.184,0.0,0.0,0.0],\"type\":\"bar\"}],                        {\"template\":{\"data\":{\"histogram2dcontour\":[{\"type\":\"histogram2dcontour\",\"colorbar\":{\"outlinewidth\":0,\"ticks\":\"\"},\"colorscale\":[[0.0,\"#0d0887\"],[0.1111111111111111,\"#46039f\"],[0.2222222222222222,\"#7201a8\"],[0.3333333333333333,\"#9c179e\"],[0.4444444444444444,\"#bd3786\"],[0.5555555555555556,\"#d8576b\"],[0.6666666666666666,\"#ed7953\"],[0.7777777777777778,\"#fb9f3a\"],[0.8888888888888888,\"#fdca26\"],[1.0,\"#f0f921\"]]}],\"choropleth\":[{\"type\":\"choropleth\",\"colorbar\":{\"outlinewidth\":0,\"ticks\":\"\"}}],\"histogram2d\":[{\"type\":\"histogram2d\",\"colorbar\":{\"outlinewidth\":0,\"ticks\":\"\"},\"colorscale\":[[0.0,\"#0d0887\"],[0.1111111111111111,\"#46039f\"],[0.2222222222222222,\"#7201a8\"],[0.3333333333333333,\"#9c179e\"],[0.4444444444444444,\"#bd3786\"],[0.5555555555555556,\"#d8576b\"],[0.6666666666666666,\"#ed7953\"],[0.7777777777777778,\"#fb9f3a\"],[0.8888888888888888,\"#fdca26\"],[1.0,\"#f0f921\"]]}],\"heatmap\":[{\"type\":\"heatmap\",\"colorbar\":{\"outlinewidth\":0,\"ticks\":\"\"},\"colorscale\":[[0.0,\"#0d0887\"],[0.1111111111111111,\"#46039f\"],[0.2222222222222222,\"#7201a8\"],[0.3333333333333333,\"#9c179e\"],[0.4444444444444444,\"#bd3786\"],[0.5555555555555556,\"#d8576b\"],[0.6666666666666666,\"#ed7953\"],[0.7777777777777778,\"#fb9f3a\"],[0.8888888888888888,\"#fdca26\"],[1.0,\"#f0f921\"]]}],\"heatmapgl\":[{\"type\":\"heatmapgl\",\"colorbar\":{\"outlinewidth\":0,\"ticks\":\"\"},\"colorscale\":[[0.0,\"#0d0887\"],[0.1111111111111111,\"#46039f\"],[0.2222222222222222,\"#7201a8\"],[0.3333333333333333,\"#9c179e\"],[0.4444444444444444,\"#bd3786\"],[0.5555555555555556,\"#d8576b\"],[0.6666666666666666,\"#ed7953\"],[0.7777777777777778,\"#fb9f3a\"],[0.8888888888888888,\"#fdca26\"],[1.0,\"#f0f921\"]]}],\"contourcarpet\":[{\"type\":\"contourcarpet\",\"colorbar\":{\"outlinewidth\":0,\"ticks\":\"\"}}],\"contour\":[{\"type\":\"contour\",\"colorbar\":{\"outlinewidth\":0,\"ticks\":\"\"},\"colorscale\":[[0.0,\"#0d0887\"],[0.1111111111111111,\"#46039f\"],[0.2222222222222222,\"#7201a8\"],[0.3333333333333333,\"#9c179e\"],[0.4444444444444444,\"#bd3786\"],[0.5555555555555556,\"#d8576b\"],[0.6666666666666666,\"#ed7953\"],[0.7777777777777778,\"#fb9f3a\"],[0.8888888888888888,\"#fdca26\"],[1.0,\"#f0f921\"]]}],\"surface\":[{\"type\":\"surface\",\"colorbar\":{\"outlinewidth\":0,\"ticks\":\"\"},\"colorscale\":[[0.0,\"#0d0887\"],[0.1111111111111111,\"#46039f\"],[0.2222222222222222,\"#7201a8\"],[0.3333333333333333,\"#9c179e\"],[0.4444444444444444,\"#bd3786\"],[0.5555555555555556,\"#d8576b\"],[0.6666666666666666,\"#ed7953\"],[0.7777777777777778,\"#fb9f3a\"],[0.8888888888888888,\"#fdca26\"],[1.0,\"#f0f921\"]]}],\"mesh3d\":[{\"type\":\"mesh3d\",\"colorbar\":{\"outlinewidth\":0,\"ticks\":\"\"}}],\"scatter\":[{\"fillpattern\":{\"fillmode\":\"overlay\",\"size\":10,\"solidity\":0.2},\"type\":\"scatter\"}],\"parcoords\":[{\"type\":\"parcoords\",\"line\":{\"colorbar\":{\"outlinewidth\":0,\"ticks\":\"\"}}}],\"scatterpolargl\":[{\"type\":\"scatterpolargl\",\"marker\":{\"colorbar\":{\"outlinewidth\":0,\"ticks\":\"\"}}}],\"bar\":[{\"error_x\":{\"color\":\"#2a3f5f\"},\"error_y\":{\"color\":\"#2a3f5f\"},\"marker\":{\"line\":{\"color\":\"#E5ECF6\",\"width\":0.5},\"pattern\":{\"fillmode\":\"overlay\",\"size\":10,\"solidity\":0.2}},\"type\":\"bar\"}],\"scattergeo\":[{\"type\":\"scattergeo\",\"marker\":{\"colorbar\":{\"outlinewidth\":0,\"ticks\":\"\"}}}],\"scatterpolar\":[{\"type\":\"scatterpolar\",\"marker\":{\"colorbar\":{\"outlinewidth\":0,\"ticks\":\"\"}}}],\"histogram\":[{\"marker\":{\"pattern\":{\"fillmode\":\"overlay\",\"size\":10,\"solidity\":0.2}},\"type\":\"histogram\"}],\"scattergl\":[{\"type\":\"scattergl\",\"marker\":{\"colorbar\":{\"outlinewidth\":0,\"ticks\":\"\"}}}],\"scatter3d\":[{\"type\":\"scatter3d\",\"line\":{\"colorbar\":{\"outlinewidth\":0,\"ticks\":\"\"}},\"marker\":{\"colorbar\":{\"outlinewidth\":0,\"ticks\":\"\"}}}],\"scattermapbox\":[{\"type\":\"scattermapbox\",\"marker\":{\"colorbar\":{\"outlinewidth\":0,\"ticks\":\"\"}}}],\"scatterternary\":[{\"type\":\"scatterternary\",\"marker\":{\"colorbar\":{\"outlinewidth\":0,\"ticks\":\"\"}}}],\"scattercarpet\":[{\"type\":\"scattercarpet\",\"marker\":{\"colorbar\":{\"outlinewidth\":0,\"ticks\":\"\"}}}],\"carpet\":[{\"aaxis\":{\"endlinecolor\":\"#2a3f5f\",\"gridcolor\":\"white\",\"linecolor\":\"white\",\"minorgridcolor\":\"white\",\"startlinecolor\":\"#2a3f5f\"},\"baxis\":{\"endlinecolor\":\"#2a3f5f\",\"gridcolor\":\"white\",\"linecolor\":\"white\",\"minorgridcolor\":\"white\",\"startlinecolor\":\"#2a3f5f\"},\"type\":\"carpet\"}],\"table\":[{\"cells\":{\"fill\":{\"color\":\"#EBF0F8\"},\"line\":{\"color\":\"white\"}},\"header\":{\"fill\":{\"color\":\"#C8D4E3\"},\"line\":{\"color\":\"white\"}},\"type\":\"table\"}],\"barpolar\":[{\"marker\":{\"line\":{\"color\":\"#E5ECF6\",\"width\":0.5},\"pattern\":{\"fillmode\":\"overlay\",\"size\":10,\"solidity\":0.2}},\"type\":\"barpolar\"}],\"pie\":[{\"automargin\":true,\"type\":\"pie\"}]},\"layout\":{\"autotypenumbers\":\"strict\",\"colorway\":[\"#636efa\",\"#EF553B\",\"#00cc96\",\"#ab63fa\",\"#FFA15A\",\"#19d3f3\",\"#FF6692\",\"#B6E880\",\"#FF97FF\",\"#FECB52\"],\"font\":{\"color\":\"#2a3f5f\"},\"hovermode\":\"closest\",\"hoverlabel\":{\"align\":\"left\"},\"paper_bgcolor\":\"white\",\"plot_bgcolor\":\"#E5ECF6\",\"polar\":{\"bgcolor\":\"#E5ECF6\",\"angularaxis\":{\"gridcolor\":\"white\",\"linecolor\":\"white\",\"ticks\":\"\"},\"radialaxis\":{\"gridcolor\":\"white\",\"linecolor\":\"white\",\"ticks\":\"\"}},\"ternary\":{\"bgcolor\":\"#E5ECF6\",\"aaxis\":{\"gridcolor\":\"white\",\"linecolor\":\"white\",\"ticks\":\"\"},\"baxis\":{\"gridcolor\":\"white\",\"linecolor\":\"white\",\"ticks\":\"\"},\"caxis\":{\"gridcolor\":\"white\",\"linecolor\":\"white\",\"ticks\":\"\"}},\"coloraxis\":{\"colorbar\":{\"outlinewidth\":0,\"ticks\":\"\"}},\"colorscale\":{\"sequential\":[[0.0,\"#0d0887\"],[0.1111111111111111,\"#46039f\"],[0.2222222222222222,\"#7201a8\"],[0.3333333333333333,\"#9c179e\"],[0.4444444444444444,\"#bd3786\"],[0.5555555555555556,\"#d8576b\"],[0.6666666666666666,\"#ed7953\"],[0.7777777777777778,\"#fb9f3a\"],[0.8888888888888888,\"#fdca26\"],[1.0,\"#f0f921\"]],\"sequentialminus\":[[0.0,\"#0d0887\"],[0.1111111111111111,\"#46039f\"],[0.2222222222222222,\"#7201a8\"],[0.3333333333333333,\"#9c179e\"],[0.4444444444444444,\"#bd3786\"],[0.5555555555555556,\"#d8576b\"],[0.6666666666666666,\"#ed7953\"],[0.7777777777777778,\"#fb9f3a\"],[0.8888888888888888,\"#fdca26\"],[1.0,\"#f0f921\"]],\"diverging\":[[0,\"#8e0152\"],[0.1,\"#c51b7d\"],[0.2,\"#de77ae\"],[0.3,\"#f1b6da\"],[0.4,\"#fde0ef\"],[0.5,\"#f7f7f7\"],[0.6,\"#e6f5d0\"],[0.7,\"#b8e186\"],[0.8,\"#7fbc41\"],[0.9,\"#4d9221\"],[1,\"#276419\"]]},\"xaxis\":{\"gridcolor\":\"white\",\"linecolor\":\"white\",\"ticks\":\"\",\"title\":{\"standoff\":15},\"zerolinecolor\":\"white\",\"automargin\":true,\"zerolinewidth\":2},\"yaxis\":{\"gridcolor\":\"white\",\"linecolor\":\"white\",\"ticks\":\"\",\"title\":{\"standoff\":15},\"zerolinecolor\":\"white\",\"automargin\":true,\"zerolinewidth\":2},\"scene\":{\"xaxis\":{\"backgroundcolor\":\"#E5ECF6\",\"gridcolor\":\"white\",\"linecolor\":\"white\",\"showbackground\":true,\"ticks\":\"\",\"zerolinecolor\":\"white\",\"gridwidth\":2},\"yaxis\":{\"backgroundcolor\":\"#E5ECF6\",\"gridcolor\":\"white\",\"linecolor\":\"white\",\"showbackground\":true,\"ticks\":\"\",\"zerolinecolor\":\"white\",\"gridwidth\":2},\"zaxis\":{\"backgroundcolor\":\"#E5ECF6\",\"gridcolor\":\"white\",\"linecolor\":\"white\",\"showbackground\":true,\"ticks\":\"\",\"zerolinecolor\":\"white\",\"gridwidth\":2}},\"shapedefaults\":{\"line\":{\"color\":\"#2a3f5f\"}},\"annotationdefaults\":{\"arrowcolor\":\"#2a3f5f\",\"arrowhead\":0,\"arrowwidth\":1},\"geo\":{\"bgcolor\":\"white\",\"landcolor\":\"#E5ECF6\",\"subunitcolor\":\"white\",\"showland\":true,\"showlakes\":true,\"lakecolor\":\"white\"},\"title\":{\"x\":0.05},\"mapbox\":{\"style\":\"light\"}}},\"yaxis\":{\"title\":{\"text\":\"Fraud Rate (%)\"},\"range\":[0,0.92256]},\"title\":{\"text\":\"Fraud Rates by Transaction Type\"},\"xaxis\":{\"title\":{\"text\":\"Transaction Type\"}},\"showlegend\":false},                        {\"responsive\": true}                    ).then(function(){\n",
       "                            \n",
       "var gd = document.getElementById('83d67459-304a-4e18-bbde-d63f36cc4fa2');\n",
       "var x = new MutationObserver(function (mutations, observer) {{\n",
       "        var display = window.getComputedStyle(gd).display;\n",
       "        if (!display || display === 'none') {{\n",
       "            console.log([gd, 'removed!']);\n",
       "            Plotly.purge(gd);\n",
       "            observer.disconnect();\n",
       "        }}\n",
       "}});\n",
       "\n",
       "// Listen for the removal of the full notebook cells\n",
       "var notebookContainer = gd.closest('#notebook-container');\n",
       "if (notebookContainer) {{\n",
       "    x.observe(notebookContainer, {childList: true});\n",
       "}}\n",
       "\n",
       "// Listen for the clearing of the current output cell\n",
       "var outputEl = gd.closest('.output');\n",
       "if (outputEl) {{\n",
       "    x.observe(outputEl, {childList: true});\n",
       "}}\n",
       "\n",
       "                        })                };                });            </script>        </div>"
      ]
     },
     "metadata": {},
     "output_type": "display_data"
    }
   ],
   "source": [
    "import plotly.graph_objects as go\n",
    "\n",
    "\n",
    "data = {\n",
    "    \"fraud_rates_by_type\": [\n",
    "        {\"type\": \"TRANSFER\", \"fraud_rate\": 0.007688},\n",
    "        {\"type\": \"CASH_OUT\", \"fraud_rate\": 0.001840},\n",
    "        {\"type\": \"CASH_IN\", \"fraud_rate\": 0.0},\n",
    "        {\"type\": \"DEBIT\", \"fraud_rate\": 0.0},\n",
    "        {\"type\": \"PAYMENT\", \"fraud_rate\": 0.0}\n",
    "    ]\n",
    "}\n",
    "\n",
    "\n",
    "types = [item[\"type\"] for item in data[\"fraud_rates_by_type\"]]\n",
    "fraud_rates = [item[\"fraud_rate\"] * 100 for item in data[\"fraud_rates_by_type\"]]  # Convert to percentage\n",
    "\n",
    "fig = go.Figure(data=[\n",
    "    go.Bar(\n",
    "        x=types,\n",
    "        y=fraud_rates,\n",
    "        marker_color=['#DB4545', '#1FB8CD', '#2E8B57', '#5D878F', '#A0A0A0'],\n",
    "        text=[f'{rate:.2f}%' for rate in fraud_rates],\n",
    "        textposition='outside',\n",
    "        cliponaxis=False\n",
    "    )\n",
    "])\n",
    "\n",
    "\n",
    "fig.update_layout(\n",
    "    title='Fraud Rates by Transaction Type',\n",
    "    xaxis_title='Transaction Type',\n",
    "    yaxis_title='Fraud Rate (%)',\n",
    "    showlegend=False,\n",
    "    yaxis=dict(\n",
    "        range=[0, max(fraud_rates) * 1.2] # Adjust range for better visualization\n",
    "    )\n",
    ")\n",
    "\n",
    "\n",
    "fig.show()\n",
    "\n"
   ]
  },
  {
   "cell_type": "raw",
   "metadata": {},
   "source": [
    "Missing Values: there were no missing values in the dataset, so no imputation was needed.\n",
    "\n",
    "Outliers: Outliers in the amount feature were identified using the Interquartile Range (IQR) method. This led to the creation of a new feature, is_amount_outlier, to flag these transactions.\n",
    "\n",
    "Multi-collinearity: correctly identified high correlations between several numerical features, such as oldbalanceOrg and newbalanceOrig (0.999) and oldbalanceDest and newbalanceDest (0.977). This analysis helps in selecting a diverse and effective set of features for the model."
   ]
  },
  {
   "cell_type": "markdown",
   "metadata": {},
   "source": [
    "#  Fraud detection model elaboration"
   ]
  },
  {
   "cell_type": "raw",
   "metadata": {},
   "source": [
    "Evaluated three different models, but primary and most successful model is the Random Forest Classifier. 🌳\n",
    "\n",
    "This model is an ensemble learning method that works by constructing multiple decision trees during training. For prediction, it outputs the class that is the mode of the classes of the individual trees. It was configured with 20 estimators (n_estimators=20) and a maximum depth of 10 (max_depth=10). It was trained on 12 selected features to distinguish between fraudulent and legitimate transactions"
   ]
  },
  {
   "cell_type": "markdown",
   "metadata": {},
   "source": [
    "# Variable Selection"
   ]
  },
  {
   "cell_type": "raw",
   "metadata": {},
   "source": [
    "Initial Exploration: first determined that fraudulent activities are confined to TRANSFER and CASH_OUT transaction types.\n",
    "\n",
    "Feature Engineering: created several insightful new features, including amount_to_oldbalance_ratio, balance_change_diff, and is_night_transaction, which capture specific transaction behaviors.\n",
    "\n",
    "Final Selection: Based on this analysis chose a final set of 12 powerful features that includes a mix of original, encoded, and engineered variables to feed into the model. "
   ]
  },
  {
   "cell_type": "markdown",
   "metadata": {},
   "source": [
    "# Model Performance"
   ]
  },
  {
   "cell_type": "raw",
   "metadata": {},
   "source": [
    "Classification Report: It achieved a perfect precision, recall, and F1-score of 1.00 on the test set, meaning it correctly identified every fraudulent transaction without misclassifying any legitimate ones.\n",
    "\n",
    "AUC-ROC Score: The model yielded an AUC score of 0.999, indicating an outstanding ability to distinguish between the two classes.\n",
    "\n",
    "Cross-Validation: A 3-fold cross-validation confirmed the model's stability, with a high average AUC of 0.998."
   ]
  },
  {
   "cell_type": "markdown",
   "metadata": {},
   "source": [
    "#  Key factors that predict fraudulent customer"
   ]
  },
  {
   "cell_type": "raw",
   "metadata": {},
   "source": [
    "The Random Forest model ranked amount_to_oldbalance_ratio (importance: 0.339) and newbalanceOrig (0.304) as the most critical predictors."
   ]
  },
  {
   "cell_type": "markdown",
   "metadata": {},
   "source": [
    "# Do these factors make sense?"
   ]
  },
  {
   "cell_type": "raw",
   "metadata": {},
   "source": [
    "Yes, they make perfect sense.\n",
    "\n",
    "Transaction Type: Fraudsters use CASH_OUT and TRANSFER because they are the quickest and most direct methods to move funds to an external account or convert them to untraceable cash.\n",
    "\n",
    "Amount: Criminals want to maximize their profit from each fraudulent transaction to reduce their exposure and the risk of getting caught.\n",
    "\n",
    "Merchant Destination: Transfers between individuals often have less scrutiny than payments to verified merchants, making them an ideal channel for laundering stolen funds.\n"
   ]
  },
  {
   "cell_type": "markdown",
   "metadata": {},
   "source": [
    "# prevention Adoption"
   ]
  },
  {
   "cell_type": "raw",
   "metadata": {},
   "source": [
    "Real-Time Monitoring: Implement automated rules to flag high-risk transactions for review. This includes monitoring for high transaction velocity and placing dynamic limits on CASH_OUT and TRANSFER transactions that exhibit suspicious characteristics \n",
    "\n",
    "Risk Scoring:  Transactions with scores above a certain threshold should trigger enhanced security measures using machine learning model for real time transaction.\n",
    "\n",
    "Process Controls:  two-factor authentication (2FA), a phone call verification."
   ]
  },
  {
   "cell_type": "markdown",
   "metadata": {},
   "source": [
    "# Measuring Success"
   ]
  },
  {
   "cell_type": "raw",
   "metadata": {},
   "source": [
    "The goal is to see a decrease in the overall fraud rate and reduced financial losses without significantly harming the user experience\n",
    "\n",
    "A/B Testing: Roll out the new prevention system to a small segment of users first. This provides a clear, data-driven way to measure the impact of your changes before a full-scale deployment.\n",
    "\n",
    "Analyze Analyst Workflow: Measure the time it takes for fraud analysts to investigate alerts. A successful system should provide them with clearer signals, making their work faster and more effective."
   ]
  },
  {
   "cell_type": "code",
   "execution_count": null,
   "metadata": {},
   "outputs": [],
   "source": []
  }
 ],
 "metadata": {
  "kernelspec": {
   "display_name": "Python 3",
   "language": "python",
   "name": "python3"
  },
  "language_info": {
   "codemirror_mode": {
    "name": "ipython",
    "version": 3
   },
   "file_extension": ".py",
   "mimetype": "text/x-python",
   "name": "python",
   "nbconvert_exporter": "python",
   "pygments_lexer": "ipython3",
   "version": "3.6.6"
  }
 },
 "nbformat": 4,
 "nbformat_minor": 2
}
